{
 "cells": [
  {
   "cell_type": "code",
   "execution_count": 1,
   "source": [
    "import tensorflow as tf\r\n",
    "from tensorflow.keras.preprocessing.image import ImageDataGenerator\r\n",
    "from tensorflow.keras.models import Sequential\r\n",
    "from tensorflow.keras.layers import Conv2D, MaxPooling2D, Flatten, Dense, Dropout\r\n",
    "import joblib\r\n",
    "import pickle\r\n",
    "\r\n",
    "# Data Loading and Preprocessing\r\n",
    "image_size = (128, 128)\r\n",
    "batch_size = 32\r\n",
    "\r\n",
    "print(image_size[0])\r\n",
    "print(image_size[1])\r\n",
    "\r\n",
    "train_data_generator = ImageDataGenerator(rescale=1./255, validation_split=0.2)\r\n",
    "train_generator = train_data_generator.flow_from_directory(\r\n",
    "    directory='/kaggle/input/deep-learning/Age/femalemelspectrogram',  # Change the directory to \"malemel_spectrogram\"\r\n",
    "    target_size=image_size,\r\n",
    "    batch_size=batch_size,\r\n",
    "    class_mode='binary',\r\n",
    "    subset='training'\r\n",
    ")\r\n",
    "\r\n",
    "validation_generator = train_data_generator.flow_from_directory(\r\n",
    "    directory='/kaggle/input/deep-learning/Age/femalemelspectrogram',  # Change the directory to \"femalemel_spectrogram\"\r\n",
    "    target_size=image_size,\r\n",
    "    batch_size=batch_size,\r\n",
    "    class_mode='binary',\r\n",
    "    subset='validation'\r\n",
    ")\r\n",
    "\r\n",
    "# Build a CNN Model\r\n",
    "model = Sequential()\r\n",
    "\r\n",
    "model.add(Conv2D(32, (3, 3), activation='relu', input_shape=(image_size[0], image_size[1], 3)))\r\n",
    "model.add(MaxPooling2D(pool_size=(2, 2)))\r\n",
    "\r\n",
    "model.add(Conv2D(64, (3, 3), activation='relu'))\r\n",
    "model.add(MaxPooling2D(pool_size=(2, 2)))\r\n",
    "\r\n",
    "model.add(Conv2D(128, (3, 3), activation='relu'))\r\n",
    "model.add(MaxPooling2D(pool_size=(2, 2)))\r\n",
    "\r\n",
    "model.add(Flatten())\r\n",
    "model.add(Dense(128, activation='relu'))\r\n",
    "model.add(Dropout(0.5))\r\n",
    "\r\n",
    "model.add(Dense(1, activation='sigmoid'))\r\n",
    "\r\n",
    "# Compile the Model\r\n",
    "model.compile(optimizer='adam', loss='binary_crossentropy', metrics=['accuracy'])\r\n",
    "\r\n",
    "# Train the Model\r\n",
    "history = model.fit(\r\n",
    "    train_generator,\r\n",
    "    steps_per_epoch=train_generator.samples // batch_size,\r\n",
    "    validation_data=validation_generator,\r\n",
    "    validation_steps=validation_generator.samples // batch_size,\r\n",
    "    epochs=10\r\n",
    ")\r\n",
    "\r\n",
    "# Save the Model\r\n",
    "model.save(\"/kaggle/working/gender_classification_model.h5\")\r\n",
    "\r\n",
    "joblib.dump(model, 'model.joblib')"
   ],
   "outputs": [
    {
     "output_type": "stream",
     "name": "stderr",
     "text": [
      "/opt/conda/lib/python3.10/site-packages/scipy/__init__.py:146: UserWarning: A NumPy version >=1.16.5 and <1.23.0 is required for this version of SciPy (detected version 1.23.5\n",
      "  warnings.warn(f\"A NumPy version >={np_minversion} and <{np_maxversion}\"\n",
      "/opt/conda/lib/python3.10/site-packages/tensorflow_io/python/ops/__init__.py:98: UserWarning: unable to load libtensorflow_io_plugins.so: unable to open file: libtensorflow_io_plugins.so, from paths: ['/opt/conda/lib/python3.10/site-packages/tensorflow_io/python/ops/libtensorflow_io_plugins.so']\n",
      "caused by: ['/opt/conda/lib/python3.10/site-packages/tensorflow_io/python/ops/libtensorflow_io_plugins.so: undefined symbol: _ZN3tsl6StatusC1EN10tensorflow5error4CodeESt17basic_string_viewIcSt11char_traitsIcEENS_14SourceLocationE']\n",
      "  warnings.warn(f\"unable to load libtensorflow_io_plugins.so: {e}\")\n",
      "/opt/conda/lib/python3.10/site-packages/tensorflow_io/python/ops/__init__.py:104: UserWarning: file system plugins are not loaded: unable to open file: libtensorflow_io.so, from paths: ['/opt/conda/lib/python3.10/site-packages/tensorflow_io/python/ops/libtensorflow_io.so']\n",
      "caused by: ['/opt/conda/lib/python3.10/site-packages/tensorflow_io/python/ops/libtensorflow_io.so: undefined symbol: _ZTVN10tensorflow13GcsFileSystemE']\n",
      "  warnings.warn(f\"file system plugins are not loaded: {e}\")\n"
     ]
    },
    {
     "output_type": "stream",
     "name": "stdout",
     "text": [
      "128\n",
      "128\n",
      "Found 120853 images belonging to 3 classes.\n",
      "Found 30213 images belonging to 3 classes.\n",
      "Epoch 1/10\n",
      "3776/3776 [==============================] - 2647s 699ms/step - loss: -205901050937344.0000 - accuracy: 0.3023 - val_loss: -1033816613322752.0000 - val_accuracy: 0.3023\n",
      "Epoch 2/10\n",
      "3776/3776 [==============================] - 2031s 538ms/step - loss: -6260673432518656.0000 - accuracy: 0.3024 - val_loss: -15124973219741696.0000 - val_accuracy: 0.3023\n",
      "Epoch 3/10\n",
      "3776/3776 [==============================] - 2024s 536ms/step - loss: -38564279422550016.0000 - accuracy: 0.3023 - val_loss: -70741044827783168.0000 - val_accuracy: 0.3024\n",
      "Epoch 4/10\n",
      "3776/3776 [==============================] - 2033s 538ms/step - loss: -137768867089874944.0000 - accuracy: 0.3024 - val_loss: -218247801073565696.0000 - val_accuracy: 0.3023\n",
      "Epoch 5/10\n",
      "3776/3776 [==============================] - 2033s 539ms/step - loss: -366901841868357632.0000 - accuracy: 0.3024 - val_loss: -529239751547420672.0000 - val_accuracy: 0.3023\n",
      "Epoch 6/10\n",
      "3776/3776 [==============================] - 2002s 530ms/step - loss: -804569970087297024.0000 - accuracy: 0.3023 - val_loss: -1093066359333453824.0000 - val_accuracy: 0.3023\n",
      "Epoch 7/10\n",
      "3776/3776 [==============================] - 2022s 535ms/step - loss: -1569428878714208256.0000 - accuracy: 0.3024 - val_loss: -2049400063976800256.0000 - val_accuracy: 0.3024\n",
      "Epoch 8/10\n",
      "3776/3776 [==============================] - 2035s 539ms/step - loss: -2796865385847062528.0000 - accuracy: 0.3023 - val_loss: -3531084616259600384.0000 - val_accuracy: 0.3024\n",
      "Epoch 9/10\n",
      "3776/3776 [==============================] - 2014s 533ms/step - loss: -4694979521789558784.0000 - accuracy: 0.3024 - val_loss: -5756713579302617088.0000 - val_accuracy: 0.3024\n",
      "Epoch 10/10\n",
      "3776/3776 [==============================] - 2043s 541ms/step - loss: -7446879554985000960.0000 - accuracy: 0.3023 - val_loss: -8951017509096521728.0000 - val_accuracy: 0.3023\n"
     ]
    },
    {
     "output_type": "execute_result",
     "data": {
      "text/plain": [
       "['model.joblib']"
      ]
     },
     "metadata": {},
     "execution_count": 1
    }
   ],
   "metadata": {
    "execution": {
     "iopub.execute_input": "2023-10-29T08:18:51.417565Z",
     "iopub.status.busy": "2023-10-29T08:18:51.417279Z",
     "iopub.status.idle": "2023-10-29T14:11:44.230607Z",
     "shell.execute_reply": "2023-10-29T14:11:44.229497Z"
    },
    "papermill": {
     "duration": 21175.568479,
     "end_time": "2023-10-29T14:11:46.981954",
     "exception": false,
     "start_time": "2023-10-29T08:18:51.413475",
     "status": "completed"
    },
    "tags": []
   }
  },
  {
   "cell_type": "code",
   "execution_count": 2,
   "source": [
    "loss, accuracy = model.evaluate(validation_generator)\r\n",
    "\r\n",
    "# Print the accuracy\r\n",
    "print(f'Test accuracy: {accuracy * 100:.2f}%')"
   ],
   "outputs": [
    {
     "output_type": "stream",
     "name": "stdout",
     "text": [
      "945/945 [==============================] - 368s 389ms/step - loss: -8951164843654643712.0000 - accuracy: 0.3024\n",
      "Test accuracy: 30.24%\n"
     ]
    }
   ],
   "metadata": {
    "execution": {
     "iopub.execute_input": "2023-10-29T14:11:53.157904Z",
     "iopub.status.busy": "2023-10-29T14:11:53.157509Z",
     "iopub.status.idle": "2023-10-29T14:18:01.485710Z",
     "shell.execute_reply": "2023-10-29T14:18:01.484693Z"
    },
    "papermill": {
     "duration": 371.476134,
     "end_time": "2023-10-29T14:18:01.517542",
     "exception": false,
     "start_time": "2023-10-29T14:11:50.041408",
     "status": "completed"
    },
    "tags": []
   }
  },
  {
   "cell_type": "code",
   "execution_count": null,
   "source": [],
   "outputs": [],
   "metadata": {
    "execution": {
     "iopub.execute_input": "2023-10-21T18:06:24.929681Z",
     "iopub.status.busy": "2023-10-21T18:06:24.929268Z",
     "iopub.status.idle": "2023-10-21T18:14:10.375995Z",
     "shell.execute_reply": "2023-10-21T18:14:10.375046Z",
     "shell.execute_reply.started": "2023-10-21T18:06:24.929647Z"
    },
    "papermill": {
     "duration": 3.081145,
     "end_time": "2023-10-29T14:18:13.811309",
     "exception": false,
     "start_time": "2023-10-29T14:18:10.730164",
     "status": "completed"
    },
    "tags": []
   }
  },
  {
   "cell_type": "code",
   "execution_count": null,
   "source": [],
   "outputs": [],
   "metadata": {
    "execution": {
     "iopub.status.busy": "2023-10-21T18:04:44.626174Z",
     "iopub.status.idle": "2023-10-21T18:04:44.626668Z",
     "shell.execute_reply": "2023-10-21T18:04:44.626399Z",
     "shell.execute_reply.started": "2023-10-21T18:04:44.626377Z"
    },
    "papermill": {
     "duration": 2.978437,
     "end_time": "2023-10-29T14:18:19.874502",
     "exception": false,
     "start_time": "2023-10-29T14:18:16.896065",
     "status": "completed"
    },
    "tags": []
   }
  },
  {
   "cell_type": "code",
   "execution_count": null,
   "source": [],
   "outputs": [],
   "metadata": {
    "papermill": {
     "duration": 3.08605,
     "end_time": "2023-10-29T14:18:26.087659",
     "exception": false,
     "start_time": "2023-10-29T14:18:23.001609",
     "status": "completed"
    },
    "tags": []
   }
  }
 ],
 "metadata": {
  "kernelspec": {
   "display_name": "Python 3",
   "language": "python",
   "name": "python3"
  },
  "language_info": {
   "codemirror_mode": {
    "name": "ipython",
    "version": 3
   },
   "file_extension": ".py",
   "mimetype": "text/x-python",
   "name": "python",
   "nbconvert_exporter": "python",
   "pygments_lexer": "ipython3",
   "version": "3.10.12"
  },
  "papermill": {
   "default_parameters": {},
   "duration": 21591.201288,
   "end_time": "2023-10-29T14:18:32.753211",
   "environment_variables": {},
   "exception": null,
   "input_path": "__notebook__.ipynb",
   "output_path": "__notebook__.ipynb",
   "parameters": {},
   "start_time": "2023-10-29T08:18:41.551923",
   "version": "2.4.0"
  }
 },
 "nbformat": 4,
 "nbformat_minor": 5
}