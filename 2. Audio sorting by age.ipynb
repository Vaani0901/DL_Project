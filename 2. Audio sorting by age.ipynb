{
 "cells": [
  {
   "cell_type": "code",
   "execution_count": 3,
   "id": "a97f001d",
   "metadata": {},
   "outputs": [
    {
     "name": "stdout",
     "output_type": "stream",
     "text": [
      "Files have been organized based on age groups.\n"
     ]
    }
   ],
   "source": [
    "import os\n",
    "import shutil\n",
    "import pandas as pd\n",
    "\n",
    "# Define the input folder, output folders, and the CSV file\n",
    "input_folder = \"C:/Users/prasa/Downloads/DEEP LEARNING/male_files\"\n",
    "output_folder_teens_twenties = os.path.join(input_folder, \"teens-twenties\")\n",
    "output_folder_thirties_fifties = os.path.join(input_folder, \"thirties-fifties\")\n",
    "output_folder_sixties_eighties = os.path.join(input_folder, \"sixties-eighties\")\n",
    "csv_file = \"C:/Users/prasa/Downloads/DEEP LEARNING/train_test.csv\"\n",
    "\n",
    "# Create output folders if they don't exist\n",
    "for folder in [output_folder_teens_twenties, output_folder_thirties_fifties, output_folder_sixties_eighties]:\n",
    "    if not os.path.exists(folder):\n",
    "        os.makedirs(folder)\n",
    "\n",
    "# Read the CSV file using Pandas\n",
    "df = pd.read_csv(csv_file)\n",
    "\n",
    "# Organize the audio files\n",
    "for index, row in df.iterrows():\n",
    "    audio_file_path = os.path.join(input_folder, row['path'])\n",
    "    age = row['age']\n",
    "    \n",
    "    if age in ['teens', 'twenties']:\n",
    "        destination_folder = output_folder_teens_twenties\n",
    "    elif age in ['thirties', 'forties', 'fifties']:\n",
    "        destination_folder = output_folder_thirties_fifties\n",
    "    else:\n",
    "        destination_folder = output_folder_sixties_eighties\n",
    "\n",
    "    if os.path.exists(audio_file_path):\n",
    "        shutil.move(audio_file_path, destination_folder)\n",
    "\n",
    "print(\"Files have been organized based on age groups.\")\n"
   ]
  },
  {
   "cell_type": "code",
   "execution_count": null,
   "id": "55f2310b",
   "metadata": {},
   "outputs": [],
   "source": []
  }
 ],
 "metadata": {
  "kernelspec": {
   "display_name": "Python 3 (ipykernel)",
   "language": "python",
   "name": "python3"
  },
  "language_info": {
   "codemirror_mode": {
    "name": "ipython",
    "version": 3
   },
   "file_extension": ".py",
   "mimetype": "text/x-python",
   "name": "python",
   "nbconvert_exporter": "python",
   "pygments_lexer": "ipython3",
   "version": "3.9.18"
  }
 },
 "nbformat": 4,
 "nbformat_minor": 5
}
