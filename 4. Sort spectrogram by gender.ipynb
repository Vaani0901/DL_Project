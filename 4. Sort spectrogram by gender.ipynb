{
 "cells": [
  {
   "cell_type": "code",
   "execution_count": 4,
   "id": "e52f2ff5",
   "metadata": {},
   "outputs": [],
   "source": [
    "import pandas as pd\n",
    "\n",
    "df = pd.read_csv(\"C:/Users/prasa/Downloads/DEEP LEARNING/train_test.csv\")\n",
    "\n",
    "def map_age_to_range(age):\n",
    "    if age in ['teens', 'twenties']:\n",
    "        return 'teens-twenties'\n",
    "    elif age in ['thirties', 'forties', 'fifties']:\n",
    "        return 'thirties-fifties'\n",
    "    else:\n",
    "        return 'sixties-eighties'\n",
    "\n",
    "df['age range'] = df['age'].apply(map_age_to_range)"
   ]
  },
  {
   "cell_type": "code",
   "execution_count": 7,
   "id": "6bcba748",
   "metadata": {},
   "outputs": [],
   "source": [
    "import os\n",
    "import shutil\n",
    "import pandas as pd\n",
    "\n",
    "input_folder = \"C:/Users/prasa/Downloads/DEEP LEARNING/Age/femalemelspectrogram\"\n",
    "\n",
    "for png_filename in os.listdir(input_folder):\n",
    "    if png_filename.endswith('.png'):\n",
    "        # Search for the matching row in the CSV\n",
    "        matching_row = df[df['path'].str.replace('.mp3', '.png') == png_filename]\n",
    "\n",
    "        if not matching_row.empty:\n",
    "            # Extract the 'folder' value from the matching row\n",
    "            folder_name = matching_row['age range'].values[0]\n",
    "\n",
    "            # Create the folder if it doesn't exist\n",
    "            folder_path = os.path.join(input_folder, folder_name)\n",
    "            os.makedirs(folder_path, exist_ok=True)\n",
    "\n",
    "            # Move the PNG file to the folder\n",
    "            src_path = os.path.join(input_folder, png_filename)\n",
    "            dest_path = os.path.join(folder_path, png_filename)\n",
    "\n",
    "            shutil.move(src_path, dest_path)"
   ]
  },
  {
   "cell_type": "code",
   "execution_count": null,
   "id": "08561480",
   "metadata": {},
   "outputs": [],
   "source": [
    "import os\n",
    "import shutil\n",
    "import pandas as pd\n",
    "\n",
    "input_folder = \"C:/Users/prasa/Downloads/DEEP LEARNING/Age/malemelspectrogram\"\n",
    "\n",
    "for png_filename in os.listdir(input_folder):\n",
    "    if png_filename.endswith('.png'):\n",
    "        # Search for the matching row in the CSV\n",
    "        matching_row = df[df['path'].str.replace('.mp3', '.png') == png_filename]\n",
    "\n",
    "        if not matching_row.empty:\n",
    "            # Extract the 'folder' value from the matching row\n",
    "            folder_name = matching_row['age range'].values[0]\n",
    "\n",
    "            # Create the folder if it doesn't exist\n",
    "            folder_path = os.path.join(input_folder, folder_name)\n",
    "            os.makedirs(folder_path, exist_ok=True)\n",
    "\n",
    "            # Move the PNG file to the folder\n",
    "            src_path = os.path.join(input_folder, png_filename)\n",
    "            dest_path = os.path.join(folder_path, png_filename)\n",
    "\n",
    "            shutil.move(src_path, dest_path)"
   ]
  },
  {
   "cell_type": "code",
   "execution_count": 10,
   "id": "f27f70a9",
   "metadata": {},
   "outputs": [],
   "source": [
    "df.to_csv('C:/Users/prasa/Downloads/DEEP LEARNING/file1.csv', index=False)"
   ]
  },
  {
   "cell_type": "code",
   "execution_count": null,
   "id": "298cba59",
   "metadata": {},
   "outputs": [],
   "source": []
  }
 ],
 "metadata": {
  "kernelspec": {
   "display_name": "Python 3 (ipykernel)",
   "language": "python",
   "name": "python3"
  },
  "language_info": {
   "codemirror_mode": {
    "name": "ipython",
    "version": 3
   },
   "file_extension": ".py",
   "mimetype": "text/x-python",
   "name": "python",
   "nbconvert_exporter": "python",
   "pygments_lexer": "ipython3",
   "version": "3.9.18"
  }
 },
 "nbformat": 4,
 "nbformat_minor": 5
}
